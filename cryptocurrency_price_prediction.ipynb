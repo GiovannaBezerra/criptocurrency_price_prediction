{
 "cells": [
  {
   "attachments": {},
   "cell_type": "markdown",
   "metadata": {},
   "source": [
    "# Cryptocurrency Price Prediction with AUTO TS"
   ]
  },
  {
   "attachments": {},
   "cell_type": "markdown",
   "metadata": {},
   "source": [
    "'description': 'Bitcoin (BTC) is a cryptocurrency . Users are able to generate BTC through the process of mining. \n",
    "Bitcoin has a current supply of 19,257,443. The last known price of Bitcoin is 17,217.46558683 USD and is up 0.17 \n",
    "over the last 24 hours. It is currently trading on 9923 active market(s) with $17,485,048,158.87 traded over the last 24 hours. \n",
    "More information can be found at https://bitcoin.org/.',"
   ]
  },
  {
   "attachments": {},
   "cell_type": "markdown",
   "metadata": {},
   "source": [
    "Fontes:\n",
    "https://thecleverprogrammer.com/2021/12/27/cryptocurrency-price-prediction-with-machine-learning/\n",
    "https://thecleverprogrammer.com/2021/04/19/autots-in-python-tutorial/\n",
    "https://www.analyticsvidhya.com/blog/2021/04/automate-time-series-forecasting-using-auto-ts/\n"
   ]
  },
  {
   "attachments": {},
   "cell_type": "markdown",
   "metadata": {},
   "source": [
    "To do:\n",
    "1. Source:https://finance.yahoo.com/\n",
    "2. API: https://github.com/ranaroussi/yfinance; https://pypi.org/project/yfinance/\n",
    "3. Get and process data\n",
    "4. Create graph visualization\n",
    "5. Create predict model using AUTO TS\n",
    "6. Split data test and train\n",
    "7. Compare results to verify accuracy..."
   ]
  },
  {
   "cell_type": "code",
   "execution_count": 17,
   "metadata": {},
   "outputs": [],
   "source": [
    "# Import modules:\n",
    "import pandas as pd\n",
    "import numpy as np\n",
    "from autots import AutoTS\n",
    "import yfinance as yf\n",
    "import datetime\n",
    "import matplotlib.pyplot as plt\n",
    "import seaborn as sns\n",
    "%matplotlib inline"
   ]
  },
  {
   "cell_type": "code",
   "execution_count": 7,
   "metadata": {},
   "outputs": [],
   "source": [
    "# Get and process Bitcoin prices data from yfinance:\n",
    "btc = yf.Ticker('BTC-USD')"
   ]
  },
  {
   "cell_type": "code",
   "execution_count": 8,
   "metadata": {},
   "outputs": [
    {
     "name": "stdout",
     "output_type": "stream",
     "text": [
      "Bitcoin (BTC) is a cryptocurrency . Users are able to generate BTC through the process of mining. Bitcoin has a current supply of 19,259,418. The last known price of Bitcoin is 18,188.84917315 USD and is up 4.19 over the last 24 hours. It is currently trading on 9925 active market(s) with $20,944,816,446.51 traded over the last 24 hours. More information can be found at https://bitcoin.org/.\n"
     ]
    }
   ],
   "source": [
    "# Description about Bitcoin:\n",
    "print(btc.info['description'])"
   ]
  },
  {
   "cell_type": "code",
   "execution_count": 9,
   "metadata": {},
   "outputs": [],
   "source": [
    "# Create a history price data frame:\n",
    "df_btc = btc.history(period=\"max\")"
   ]
  },
  {
   "cell_type": "code",
   "execution_count": 10,
   "metadata": {},
   "outputs": [],
   "source": [
    "# Rename columns:\n",
    "df_btc = df_btc.rename({'Open':'open', 'High':'high', 'Low':'low', 'Close':'close', 'Volume':'volume', \n",
    "                        'Dividends':'dividends', 'Stock Splits':'stock_splits'}, axis=1)"
   ]
  },
  {
   "cell_type": "code",
   "execution_count": 11,
   "metadata": {},
   "outputs": [],
   "source": [
    "# Add column with date information and reset index:\n",
    "df_btc['date'] = df_btc.index\n",
    "df_btc.reset_index(drop=True, inplace=True)"
   ]
  },
  {
   "cell_type": "code",
   "execution_count": 12,
   "metadata": {},
   "outputs": [],
   "source": [
    "# Rearrange columns order:\n",
    "df_btc = df_btc[['date','open', 'high', 'low', 'close', 'volume', 'dividends', 'stock_splits']]"
   ]
  },
  {
   "cell_type": "code",
   "execution_count": 13,
   "metadata": {},
   "outputs": [
    {
     "data": {
      "text/html": [
       "<div>\n",
       "<style scoped>\n",
       "    .dataframe tbody tr th:only-of-type {\n",
       "        vertical-align: middle;\n",
       "    }\n",
       "\n",
       "    .dataframe tbody tr th {\n",
       "        vertical-align: top;\n",
       "    }\n",
       "\n",
       "    .dataframe thead th {\n",
       "        text-align: right;\n",
       "    }\n",
       "</style>\n",
       "<table border=\"1\" class=\"dataframe\">\n",
       "  <thead>\n",
       "    <tr style=\"text-align: right;\">\n",
       "      <th></th>\n",
       "      <th>date</th>\n",
       "      <th>open</th>\n",
       "      <th>high</th>\n",
       "      <th>low</th>\n",
       "      <th>close</th>\n",
       "      <th>volume</th>\n",
       "      <th>dividends</th>\n",
       "      <th>stock_splits</th>\n",
       "    </tr>\n",
       "  </thead>\n",
       "  <tbody>\n",
       "    <tr>\n",
       "      <th>0</th>\n",
       "      <td>2014-09-17 00:00:00+00:00</td>\n",
       "      <td>465.864014</td>\n",
       "      <td>468.174011</td>\n",
       "      <td>452.421997</td>\n",
       "      <td>457.334015</td>\n",
       "      <td>21056800</td>\n",
       "      <td>0.0</td>\n",
       "      <td>0.0</td>\n",
       "    </tr>\n",
       "    <tr>\n",
       "      <th>1</th>\n",
       "      <td>2014-09-18 00:00:00+00:00</td>\n",
       "      <td>456.859985</td>\n",
       "      <td>456.859985</td>\n",
       "      <td>413.104004</td>\n",
       "      <td>424.440002</td>\n",
       "      <td>34483200</td>\n",
       "      <td>0.0</td>\n",
       "      <td>0.0</td>\n",
       "    </tr>\n",
       "    <tr>\n",
       "      <th>2</th>\n",
       "      <td>2014-09-19 00:00:00+00:00</td>\n",
       "      <td>424.102997</td>\n",
       "      <td>427.834991</td>\n",
       "      <td>384.532013</td>\n",
       "      <td>394.795990</td>\n",
       "      <td>37919700</td>\n",
       "      <td>0.0</td>\n",
       "      <td>0.0</td>\n",
       "    </tr>\n",
       "    <tr>\n",
       "      <th>3</th>\n",
       "      <td>2014-09-20 00:00:00+00:00</td>\n",
       "      <td>394.673004</td>\n",
       "      <td>423.295990</td>\n",
       "      <td>389.882996</td>\n",
       "      <td>408.903992</td>\n",
       "      <td>36863600</td>\n",
       "      <td>0.0</td>\n",
       "      <td>0.0</td>\n",
       "    </tr>\n",
       "    <tr>\n",
       "      <th>4</th>\n",
       "      <td>2014-09-21 00:00:00+00:00</td>\n",
       "      <td>408.084991</td>\n",
       "      <td>412.425995</td>\n",
       "      <td>393.181000</td>\n",
       "      <td>398.821014</td>\n",
       "      <td>26580100</td>\n",
       "      <td>0.0</td>\n",
       "      <td>0.0</td>\n",
       "    </tr>\n",
       "    <tr>\n",
       "      <th>5</th>\n",
       "      <td>2014-09-22 00:00:00+00:00</td>\n",
       "      <td>399.100006</td>\n",
       "      <td>406.915985</td>\n",
       "      <td>397.130005</td>\n",
       "      <td>402.152008</td>\n",
       "      <td>24127600</td>\n",
       "      <td>0.0</td>\n",
       "      <td>0.0</td>\n",
       "    </tr>\n",
       "    <tr>\n",
       "      <th>6</th>\n",
       "      <td>2014-09-23 00:00:00+00:00</td>\n",
       "      <td>402.092010</td>\n",
       "      <td>441.557007</td>\n",
       "      <td>396.196991</td>\n",
       "      <td>435.790985</td>\n",
       "      <td>45099500</td>\n",
       "      <td>0.0</td>\n",
       "      <td>0.0</td>\n",
       "    </tr>\n",
       "    <tr>\n",
       "      <th>7</th>\n",
       "      <td>2014-09-24 00:00:00+00:00</td>\n",
       "      <td>435.751007</td>\n",
       "      <td>436.112000</td>\n",
       "      <td>421.131989</td>\n",
       "      <td>423.204987</td>\n",
       "      <td>30627700</td>\n",
       "      <td>0.0</td>\n",
       "      <td>0.0</td>\n",
       "    </tr>\n",
       "    <tr>\n",
       "      <th>8</th>\n",
       "      <td>2014-09-25 00:00:00+00:00</td>\n",
       "      <td>423.156006</td>\n",
       "      <td>423.519989</td>\n",
       "      <td>409.467987</td>\n",
       "      <td>411.574005</td>\n",
       "      <td>26814400</td>\n",
       "      <td>0.0</td>\n",
       "      <td>0.0</td>\n",
       "    </tr>\n",
       "    <tr>\n",
       "      <th>9</th>\n",
       "      <td>2014-09-26 00:00:00+00:00</td>\n",
       "      <td>411.428986</td>\n",
       "      <td>414.937988</td>\n",
       "      <td>400.009003</td>\n",
       "      <td>404.424988</td>\n",
       "      <td>21460800</td>\n",
       "      <td>0.0</td>\n",
       "      <td>0.0</td>\n",
       "    </tr>\n",
       "  </tbody>\n",
       "</table>\n",
       "</div>"
      ],
      "text/plain": [
       "                       date        open        high         low       close  \\\n",
       "0 2014-09-17 00:00:00+00:00  465.864014  468.174011  452.421997  457.334015   \n",
       "1 2014-09-18 00:00:00+00:00  456.859985  456.859985  413.104004  424.440002   \n",
       "2 2014-09-19 00:00:00+00:00  424.102997  427.834991  384.532013  394.795990   \n",
       "3 2014-09-20 00:00:00+00:00  394.673004  423.295990  389.882996  408.903992   \n",
       "4 2014-09-21 00:00:00+00:00  408.084991  412.425995  393.181000  398.821014   \n",
       "5 2014-09-22 00:00:00+00:00  399.100006  406.915985  397.130005  402.152008   \n",
       "6 2014-09-23 00:00:00+00:00  402.092010  441.557007  396.196991  435.790985   \n",
       "7 2014-09-24 00:00:00+00:00  435.751007  436.112000  421.131989  423.204987   \n",
       "8 2014-09-25 00:00:00+00:00  423.156006  423.519989  409.467987  411.574005   \n",
       "9 2014-09-26 00:00:00+00:00  411.428986  414.937988  400.009003  404.424988   \n",
       "\n",
       "     volume  dividends  stock_splits  \n",
       "0  21056800        0.0           0.0  \n",
       "1  34483200        0.0           0.0  \n",
       "2  37919700        0.0           0.0  \n",
       "3  36863600        0.0           0.0  \n",
       "4  26580100        0.0           0.0  \n",
       "5  24127600        0.0           0.0  \n",
       "6  45099500        0.0           0.0  \n",
       "7  30627700        0.0           0.0  \n",
       "8  26814400        0.0           0.0  \n",
       "9  21460800        0.0           0.0  "
      ]
     },
     "execution_count": 13,
     "metadata": {},
     "output_type": "execute_result"
    }
   ],
   "source": [
    "# Print first ten rows:\n",
    "df_btc.head(10)"
   ]
  },
  {
   "cell_type": "code",
   "execution_count": 14,
   "metadata": {},
   "outputs": [],
   "source": [
    "# Date convert type:\n",
    "df_btc.date = pd.to_datetime(df_btc.date)"
   ]
  },
  {
   "cell_type": "code",
   "execution_count": 15,
   "metadata": {},
   "outputs": [
    {
     "name": "stdout",
     "output_type": "stream",
     "text": [
      "<class 'pandas.core.frame.DataFrame'>\n",
      "RangeIndex: 3040 entries, 0 to 3039\n",
      "Data columns (total 8 columns):\n",
      " #   Column        Non-Null Count  Dtype              \n",
      "---  ------        --------------  -----              \n",
      " 0   date          3040 non-null   datetime64[ns, UTC]\n",
      " 1   open          3040 non-null   float64            \n",
      " 2   high          3040 non-null   float64            \n",
      " 3   low           3040 non-null   float64            \n",
      " 4   close         3040 non-null   float64            \n",
      " 5   volume        3040 non-null   int64              \n",
      " 6   dividends     3040 non-null   float64            \n",
      " 7   stock_splits  3040 non-null   float64            \n",
      "dtypes: datetime64[ns, UTC](1), float64(6), int64(1)\n",
      "memory usage: 190.1 KB\n"
     ]
    }
   ],
   "source": [
    "# Check missing values:\n",
    "df_btc.info()"
   ]
  },
  {
   "cell_type": "code",
   "execution_count": 16,
   "metadata": {},
   "outputs": [],
   "source": [
    "#Graph:\n",
    "df_btc = df_btc[[\"date\", \"close\"]]"
   ]
  },
  {
   "cell_type": "code",
   "execution_count": 22,
   "metadata": {},
   "outputs": [
    {
     "data": {
      "image/png": "[encoded data removed]",
      "text/plain": [
       "<Figure size 1008x576 with 1 Axes>"
      ]
     },
     "metadata": {},
     "output_type": "display_data"
    }
   ],
   "source": [
    "x1 = np.array(df_btc.date)\n",
    "#x2 = \n",
    "y1 = np.array(df_btc.close)\n",
    "#y2 = np.array(df_btc.close)\n",
    "\n",
    "font1 = {'family':'serif','color':'gray','size':20}\n",
    "sns.set_theme()\n",
    "\n",
    "plt.figure(figsize=(14, 8))\n",
    "plt.plot(x1,y1,ls = 'dotted',color = 'DarkCyan')\n",
    "plt.title(\"Bitcoin Stock Prices\", fontdict = font1)\n",
    "plt.xlabel(\"Date\")\n",
    "plt.ylabel(\"Close Price\")\n",
    "#plt.legend(('xxx','xxx'))\n",
    "#plt.ylim(50,400) (definir limite da escala do eito y)\n",
    "plt.show()"
   ]
  },
  {
   "cell_type": "code",
   "execution_count": null,
   "metadata": {},
   "outputs": [],
   "source": []
  },
  {
   "cell_type": "code",
   "execution_count": null,
   "metadata": {},
   "outputs": [],
   "source": []
  },
  {
   "cell_type": "code",
   "execution_count": null,
   "metadata": {},
   "outputs": [],
   "source": []
  },
  {
   "cell_type": "code",
   "execution_count": null,
   "metadata": {},
   "outputs": [],
   "source": []
  }
 ],
 "metadata": {
  "kernelspec": {
   "display_name": "base",
   "language": "python",
   "name": "python3"
  },
  "language_info": {
   "codemirror_mode": {
    "name": "ipython",
    "version": 3
   },
   "file_extension": ".py",
   "mimetype": "text/x-python",
   "name": "python",
   "nbconvert_exporter": "python",
   "pygments_lexer": "ipython3",
   "version": "3.8.8"
  },
  "orig_nbformat": 4,
  "vscode": {
   "interpreter": {
    "hash": "843647808bdc8aadf04a746090941d0c53a004d0bb9ba8af56fa4771a23a1fde"
   }
  }
 },
 "nbformat": 4,
 "nbformat_minor": 2
}
